{
 "cells": [
  {
   "cell_type": "code",
   "execution_count": 8,
   "id": "19837a9b-f8fc-4735-80fe-f185f94eadf7",
   "metadata": {},
   "outputs": [
    {
     "name": "stdout",
     "output_type": "stream",
     "text": [
      "[ 3. -2.]\n",
      "[[ 0.9701425   0.70710678]\n",
      " [-0.24253563  0.70710678]]\n"
     ]
    }
   ],
   "source": [
    "import numpy as np\n",
    "\n",
    "matrix = np.array([\n",
    "    [2, -4],\n",
    "    [-1,-1]\n",
    "])\n",
    "\n",
    "eigenvalues, eigenvectors = np.linalg.eig(matrix)\n",
    "print(eigenvalues)\n",
    "print(eigenvectors)"
   ]
  }
 ],
 "metadata": {
  "kernelspec": {
   "display_name": "Python 3 (ipykernel)",
   "language": "python",
   "name": "python3"
  },
  "language_info": {
   "codemirror_mode": {
    "name": "ipython",
    "version": 3
   },
   "file_extension": ".py",
   "mimetype": "text/x-python",
   "name": "python",
   "nbconvert_exporter": "python",
   "pygments_lexer": "ipython3",
   "version": "3.10.12"
  }
 },
 "nbformat": 4,
 "nbformat_minor": 5
}
