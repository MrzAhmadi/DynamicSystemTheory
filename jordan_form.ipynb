{
 "cells": [
  {
   "cell_type": "code",
   "execution_count": 9,
   "id": "19837a9b-f8fc-4735-80fe-f185f94eadf7",
   "metadata": {},
   "outputs": [],
   "source": [
    "import numpy as np"
   ]
  },
  {
   "cell_type": "code",
   "execution_count": 63,
   "id": "6f54cc44-edfb-4d78-9032-342691a18b0a",
   "metadata": {},
   "outputs": [
    {
     "name": "stdout",
     "output_type": "stream",
     "text": [
      "Eigenvalues: \n",
      "3,-2 \n",
      "\n",
      "Eigenvectors: \n",
      "[0.9701425  0.70710678],[-0.24253563  0.70710678]\n"
     ]
    }
   ],
   "source": [
    "matrix = np.array([\n",
    "    [2, -4],\n",
    "    [-1,-1]\n",
    "])\n",
    "\n",
    "eigenvalues, eigenvectors = np.linalg.eig(matrix)\n",
    "\n",
    "#Print Eigenvalues\n",
    "print(\"Eigenvalues: \")\n",
    "resultEigenvalues = \"\"\n",
    "for value in eigenvalues:\n",
    "    resultEigenvalues += str(int(value))\n",
    "    if eigenvalues[len(eigenvalues)-1] != value:\n",
    "        resultEigenvalues+=\",\"\n",
    "print(resultEigenvalues,\"\\n\")\n",
    "\n",
    "print(\"Eigenvectors: \")\n",
    "resultEigenvectors = \"\"\n",
    "for index,vector in enumerate(eigenvectors):\n",
    "    resultEigenvectors += str(vector)\n",
    "    if index != len(eigenvectors)-1:\n",
    "        resultEigenvectors+=\",\"\n",
    "print(resultEigenvectors)"
   ]
  },
  {
   "cell_type": "code",
   "execution_count": null,
   "id": "f85a58c9-f466-4ec9-af38-9cf0c341516a",
   "metadata": {},
   "outputs": [],
   "source": []
  },
  {
   "cell_type": "code",
   "execution_count": null,
   "id": "d851a6e9-858b-4dc0-b9c0-d0c72f321d67",
   "metadata": {},
   "outputs": [],
   "source": []
  }
 ],
 "metadata": {
  "kernelspec": {
   "display_name": "Python 3 (ipykernel)",
   "language": "python",
   "name": "python3"
  },
  "language_info": {
   "codemirror_mode": {
    "name": "ipython",
    "version": 3
   },
   "file_extension": ".py",
   "mimetype": "text/x-python",
   "name": "python",
   "nbconvert_exporter": "python",
   "pygments_lexer": "ipython3",
   "version": "3.10.12"
  }
 },
 "nbformat": 4,
 "nbformat_minor": 5
}
